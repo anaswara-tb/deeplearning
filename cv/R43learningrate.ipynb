{
 "cells": [
  {
   "cell_type": "markdown",
   "metadata": {},
   "source": [
    "#### Optimum learning rate"
   ]
  },
  {
   "cell_type": "code",
   "execution_count": 2,
   "metadata": {
    "collapsed": true
   },
   "outputs": [],
   "source": [
    "import os\n",
    "import re\n",
    "import numpy as np\n",
    "import pandas as pd\n",
    "import matplotlib.pyplot as plt\n",
    "%matplotlib inline\n",
    "import seaborn as sns\n",
    "from keras.models import Sequential\n",
    "from keras.layers import Dense, Flatten, InputLayer\n",
    "from sklearn.preprocessing import LabelEncoder\n",
    "from tensorflow.python.keras import utils\n",
    "import keras\n",
    "import tensorflow as tf\n",
    "import imageio \n",
    "from PIL import Image \n",
    "import keras_lr_finder as lr_find # For finding optimum learning rate [pip install keras_lr_finder]"
   ]
  },
  {
   "cell_type": "code",
   "execution_count": 3,
   "metadata": {
    "collapsed": true
   },
   "outputs": [
    {
     "name": "stderr",
     "output_type": "stream",
     "text": [
      "C:\\Users\\anaswara\\AppData\\Local\\Temp\\ipykernel_6892\\3381015795.py:8: DeprecationWarning: Starting with ImageIO v3 the behavior of this function will switch to that of iio.v3.imread. To keep the current behavior (and make this warning disappear) use `import imageio.v2 as imageio` or call `imageio.v2.imread` directly.\n",
      "  img = imageio.imread(img_path)\n"
     ]
    }
   ],
   "source": [
    "# Reading the data\n",
    "train = pd.read_csv('agedetectiontrain/train.csv')\n",
    "\n",
    "# Image resizing of test data into single numpy array\n",
    "temp = []\n",
    "for img_name in train.ID:\n",
    "    img_path = os.path.join('agedetectiontrain/Train', img_name)\n",
    "    img = imageio.imread(img_path)\n",
    "    img = np.array(Image.fromarray(img).resize((32, 32))).astype('float32')    \n",
    "    temp.append(img)\n",
    "\n",
    "train_x = np.stack(temp)\n",
    "\n",
    "# Normalizing the images\n",
    "train_x = train_x / 255.\n",
    "\n",
    "# Encoding the categorical variable to numeric\n",
    "lb = LabelEncoder()\n",
    "train_y = lb.fit_transform(train.Class)\n",
    "train_y = keras.utils.to_categorical(train_y)"
   ]
  },
  {
   "cell_type": "code",
   "execution_count": 4,
   "metadata": {
    "collapsed": true
   },
   "outputs": [],
   "source": [
    "# Specifying all the parameters we will be using in our network\n",
    "input_num_units = (32, 32, 3)\n",
    "hidden_num_units = 500\n",
    "output_num_units = 3\n",
    "\n",
    "epochs = 100\n",
    "batch_size = 512"
   ]
  },
  {
   "cell_type": "code",
   "execution_count": 5,
   "metadata": {
    "collapsed": true
   },
   "outputs": [
    {
     "name": "stderr",
     "output_type": "stream",
     "text": [
      "c:\\Users\\anaswara\\anaconda3\\envs\\deepl-env\\Lib\\site-packages\\keras\\src\\layers\\reshaping\\flatten.py:37: UserWarning: Do not pass an `input_shape`/`input_dim` argument to a layer. When using Sequential models, prefer using an `Input(shape)` object as the first layer in the model instead.\n",
      "  super().__init__(**kwargs)\n"
     ]
    }
   ],
   "source": [
    "model = keras.Sequential([\n",
    "    keras.layers.Flatten(input_shape=input_num_units), # Perform conversion of higher dimensional data (here, 2-D) to 1-D data.\n",
    "    keras.layers.Dense(hidden_num_units, activation=tf.nn.relu), # Hidden layer with 500 neurons and ReLU activation function\n",
    "    keras.layers.Dense(output_num_units, activation=tf.nn.softmax) # Output layer with softmax activation function \n",
    "])                                                   # which gives final output in terms of probability. "
   ]
  },
  {
   "cell_type": "code",
   "execution_count": 6,
   "metadata": {
    "collapsed": true
   },
   "outputs": [],
   "source": [
    "# Defining parameters like optmizer, loss function and evaluating metric\n",
    "model.compile(loss='categorical_crossentropy', # \n",
    "              optimizer=keras.optimizers.Adam(), # Learning rate and momentum can be passed inside optimizer\n",
    "              metrics=['accuracy'])"
   ]
  },
  {
   "cell_type": "code",
   "execution_count": 8,
   "metadata": {
    "scrolled": true
   },
   "outputs": [
    {
     "ename": "ValueError",
     "evalue": "The filename must end in `.weights.h5`. Received: filepath=tmp.h5",
     "output_type": "error",
     "traceback": [
      "\u001b[31m---------------------------------------------------------------------------\u001b[39m",
      "\u001b[31mValueError\u001b[39m                                Traceback (most recent call last)",
      "\u001b[36mCell\u001b[39m\u001b[36m \u001b[39m\u001b[32mIn[8]\u001b[39m\u001b[32m, line 4\u001b[39m\n\u001b[32m      1\u001b[39m lr_finder = lr_find.LRFinder(model)\n\u001b[32m      3\u001b[39m \u001b[38;5;66;03m# Training can stop abruptly if rate is set too high. In such cases, reduce the value of end_lr. \u001b[39;00m\n\u001b[32m----> \u001b[39m\u001b[32m4\u001b[39m \u001b[43mlr_finder\u001b[49m\u001b[43m.\u001b[49m\u001b[43mfind\u001b[49m\u001b[43m(\u001b[49m\u001b[43mtrain_x\u001b[49m\u001b[43m,\u001b[49m\u001b[43m \u001b[49m\u001b[43mtrain_y\u001b[49m\u001b[43m,\u001b[49m\u001b[43m \u001b[49m\u001b[43mstart_lr\u001b[49m\u001b[43m=\u001b[49m\u001b[32;43m0.0001\u001b[39;49m\u001b[43m,\u001b[49m\u001b[43m \u001b[49m\u001b[43mend_lr\u001b[49m\u001b[43m=\u001b[49m\u001b[32;43m0.09\u001b[39;49m\u001b[43m,\u001b[49m\u001b[43m \u001b[49m\u001b[43mbatch_size\u001b[49m\u001b[43m=\u001b[49m\u001b[43mbatch_size\u001b[49m\u001b[43m,\u001b[49m\u001b[43m \u001b[49m\u001b[43mepochs\u001b[49m\u001b[43m=\u001b[49m\u001b[43mepochs\u001b[49m\u001b[43m)\u001b[49m\n",
      "\u001b[36mFile \u001b[39m\u001b[32mc:\\Users\\anaswara\\anaconda3\\envs\\deepl-env\\Lib\\site-packages\\keras_lr_finder\\lr_finder.py:45\u001b[39m, in \u001b[36mLRFinder.find\u001b[39m\u001b[34m(self, x_train, y_train, start_lr, end_lr, batch_size, epochs)\u001b[39m\n\u001b[32m     42\u001b[39m \u001b[38;5;28mself\u001b[39m.lr_mult = (end_lr / start_lr) ** (\u001b[32m1\u001b[39m / num_batches)\n\u001b[32m     44\u001b[39m \u001b[38;5;66;03m# Save weights into a file\u001b[39;00m\n\u001b[32m---> \u001b[39m\u001b[32m45\u001b[39m \u001b[38;5;28;43mself\u001b[39;49m\u001b[43m.\u001b[49m\u001b[43mmodel\u001b[49m\u001b[43m.\u001b[49m\u001b[43msave_weights\u001b[49m\u001b[43m(\u001b[49m\u001b[33;43m'\u001b[39;49m\u001b[33;43mtmp.h5\u001b[39;49m\u001b[33;43m'\u001b[39;49m\u001b[43m)\u001b[49m\n\u001b[32m     47\u001b[39m \u001b[38;5;66;03m# Remember the original learning rate\u001b[39;00m\n\u001b[32m     48\u001b[39m original_lr = K.get_value(\u001b[38;5;28mself\u001b[39m.model.optimizer.lr)\n",
      "\u001b[36mFile \u001b[39m\u001b[32mc:\\Users\\anaswara\\anaconda3\\envs\\deepl-env\\Lib\\site-packages\\keras\\src\\utils\\traceback_utils.py:122\u001b[39m, in \u001b[36mfilter_traceback.<locals>.error_handler\u001b[39m\u001b[34m(*args, **kwargs)\u001b[39m\n\u001b[32m    119\u001b[39m     filtered_tb = _process_traceback_frames(e.__traceback__)\n\u001b[32m    120\u001b[39m     \u001b[38;5;66;03m# To get the full stack trace, call:\u001b[39;00m\n\u001b[32m    121\u001b[39m     \u001b[38;5;66;03m# `keras.config.disable_traceback_filtering()`\u001b[39;00m\n\u001b[32m--> \u001b[39m\u001b[32m122\u001b[39m     \u001b[38;5;28;01mraise\u001b[39;00m e.with_traceback(filtered_tb) \u001b[38;5;28;01mfrom\u001b[39;00m\u001b[38;5;250m \u001b[39m\u001b[38;5;28;01mNone\u001b[39;00m\n\u001b[32m    123\u001b[39m \u001b[38;5;28;01mfinally\u001b[39;00m:\n\u001b[32m    124\u001b[39m     \u001b[38;5;28;01mdel\u001b[39;00m filtered_tb\n",
      "\u001b[36mFile \u001b[39m\u001b[32mc:\\Users\\anaswara\\anaconda3\\envs\\deepl-env\\Lib\\site-packages\\keras\\src\\saving\\saving_api.py:227\u001b[39m, in \u001b[36msave_weights\u001b[39m\u001b[34m(model, filepath, overwrite, max_shard_size, **kwargs)\u001b[39m\n\u001b[32m    225\u001b[39m filepath_str = \u001b[38;5;28mstr\u001b[39m(filepath)\n\u001b[32m    226\u001b[39m \u001b[38;5;28;01mif\u001b[39;00m max_shard_size \u001b[38;5;129;01mis\u001b[39;00m \u001b[38;5;28;01mNone\u001b[39;00m \u001b[38;5;129;01mand\u001b[39;00m \u001b[38;5;129;01mnot\u001b[39;00m filepath_str.endswith(\u001b[33m\"\u001b[39m\u001b[33m.weights.h5\u001b[39m\u001b[33m\"\u001b[39m):\n\u001b[32m--> \u001b[39m\u001b[32m227\u001b[39m     \u001b[38;5;28;01mraise\u001b[39;00m \u001b[38;5;167;01mValueError\u001b[39;00m(\n\u001b[32m    228\u001b[39m         \u001b[33m\"\u001b[39m\u001b[33mThe filename must end in `.weights.h5`. \u001b[39m\u001b[33m\"\u001b[39m\n\u001b[32m    229\u001b[39m         \u001b[33mf\u001b[39m\u001b[33m\"\u001b[39m\u001b[33mReceived: filepath=\u001b[39m\u001b[38;5;132;01m{\u001b[39;00mfilepath_str\u001b[38;5;132;01m}\u001b[39;00m\u001b[33m\"\u001b[39m\n\u001b[32m    230\u001b[39m     )\n\u001b[32m    231\u001b[39m \u001b[38;5;28;01melif\u001b[39;00m max_shard_size \u001b[38;5;129;01mis\u001b[39;00m \u001b[38;5;129;01mnot\u001b[39;00m \u001b[38;5;28;01mNone\u001b[39;00m \u001b[38;5;129;01mand\u001b[39;00m \u001b[38;5;129;01mnot\u001b[39;00m filepath_str.endswith(\n\u001b[32m    232\u001b[39m     (\u001b[33m\"\u001b[39m\u001b[33mweights.h5\u001b[39m\u001b[33m\"\u001b[39m, \u001b[33m\"\u001b[39m\u001b[33mweights.json\u001b[39m\u001b[33m\"\u001b[39m)\n\u001b[32m    233\u001b[39m ):\n\u001b[32m    234\u001b[39m     \u001b[38;5;28;01mraise\u001b[39;00m \u001b[38;5;167;01mValueError\u001b[39;00m(\n\u001b[32m    235\u001b[39m         \u001b[33m\"\u001b[39m\u001b[33mThe filename must end in `.weights.json` when `max_shard_size` is \u001b[39m\u001b[33m\"\u001b[39m\n\u001b[32m    236\u001b[39m         \u001b[33mf\u001b[39m\u001b[33m\"\u001b[39m\u001b[33mspecified. Received: filepath=\u001b[39m\u001b[38;5;132;01m{\u001b[39;00mfilepath_str\u001b[38;5;132;01m}\u001b[39;00m\u001b[33m\"\u001b[39m\n\u001b[32m    237\u001b[39m     )\n",
      "\u001b[31mValueError\u001b[39m: The filename must end in `.weights.h5`. Received: filepath=tmp.h5"
     ]
    }
   ],
   "source": [
    "lr_finder = lr_find.LRFinder(model)\n",
    "\n",
    "# Training can stop abruptly if rate is set too high. In such cases, reduce the value of end_lr. \n",
    "lr_finder.find(train_x, train_y, start_lr=0.0001, end_lr=0.09, batch_size=batch_size, epochs=epochs)"
   ]
  },
  {
   "cell_type": "code",
   "execution_count": 7,
   "metadata": {},
   "outputs": [
    {
     "ename": "NameError",
     "evalue": "name 'lr_finder' is not defined",
     "output_type": "error",
     "traceback": [
      "\u001b[31m---------------------------------------------------------------------------\u001b[39m",
      "\u001b[31mNameError\u001b[39m                                 Traceback (most recent call last)",
      "\u001b[36mCell\u001b[39m\u001b[36m \u001b[39m\u001b[32mIn[7]\u001b[39m\u001b[32m, line 2\u001b[39m\n\u001b[32m      1\u001b[39m \u001b[38;5;66;03m# Plot the loss, ignore 20 batches in the beginning and 5 in the end\u001b[39;00m\n\u001b[32m----> \u001b[39m\u001b[32m2\u001b[39m \u001b[43mlr_finder\u001b[49m.plot_loss(n_skip_beginning=\u001b[32m20\u001b[39m, n_skip_end=\u001b[32m5\u001b[39m)\n",
      "\u001b[31mNameError\u001b[39m: name 'lr_finder' is not defined"
     ]
    }
   ],
   "source": [
    "# Plot the loss, ignore 20 batches in the beginning and 5 in the end\n",
    "lr_finder.plot_loss(n_skip_beginning=20, n_skip_end=5)"
   ]
  },
  {
   "cell_type": "markdown",
   "metadata": {},
   "source": [
    "#### From the above figure following learning rate can be choosen due to fast decrease in loss -\n",
    "* base_lr = $10^{-4}$\n",
    "* max_lr = $10^{-3}$"
   ]
  },
  {
   "cell_type": "markdown",
   "metadata": {},
   "source": [
    "## Setting cyclic learning rate for model training\n",
    "Ensure you have `clr_callback.py` file in the same directory of current module"
   ]
  },
  {
   "cell_type": "code",
   "execution_count": 14,
   "metadata": {
    "collapsed": true
   },
   "outputs": [],
   "source": [
    "from clr_callback import * # Importing cyclic learning rate module"
   ]
  },
  {
   "cell_type": "code",
   "execution_count": 28,
   "metadata": {
    "collapsed": true
   },
   "outputs": [],
   "source": [
    "# Pass the values of base_lr with the value of \n",
    "cb_triangular = CyclicLR(base_lr=0.0001, max_lr=0.001, step_size=2000., mode='triangular2') # Setting callback for model\n",
    "\n",
    "# Writing graph will take time. Hence, keeping it False.\n",
    "cb_save = keras.callbacks.TensorBoard(log_dir='learning_rate', write_graph=False)"
   ]
  },
  {
   "cell_type": "code",
   "execution_count": 31,
   "metadata": {
    "scrolled": true
   },
   "outputs": [
    {
     "name": "stdout",
     "output_type": "stream",
     "text": [
      "Train on 15924 samples, validate on 3982 samples\n",
      "Epoch 1/100\n",
      "15924/15924 [==============================] - 10s 640us/step - loss: 0.6899 - acc: 0.7000 - val_loss: 0.6773 - val_acc: 0.7082\n",
      "Epoch 2/100\n",
      "15924/15924 [==============================] - 9s 593us/step - loss: 0.6884 - acc: 0.7008 - val_loss: 0.6762 - val_acc: 0.7094\n",
      "Epoch 3/100\n",
      "15924/15924 [==============================] - 12s 747us/step - loss: 0.6882 - acc: 0.7021 - val_loss: 0.6766 - val_acc: 0.7104\n",
      "Epoch 4/100\n",
      "15924/15924 [==============================] - 11s 669us/step - loss: 0.6847 - acc: 0.7038 - val_loss: 0.6761 - val_acc: 0.7077\n",
      "Epoch 5/100\n",
      "15924/15924 [==============================] - 8s 498us/step - loss: 0.6841 - acc: 0.7051 - val_loss: 0.6740 - val_acc: 0.7074\n",
      "Epoch 6/100\n",
      "15924/15924 [==============================] - 8s 503us/step - loss: 0.6830 - acc: 0.7058 - val_loss: 0.6759 - val_acc: 0.7140\n",
      "Epoch 7/100\n",
      "15924/15924 [==============================] - 9s 541us/step - loss: 0.6825 - acc: 0.7081 - val_loss: 0.6749 - val_acc: 0.7165\n",
      "Epoch 8/100\n",
      "15924/15924 [==============================] - 13s 828us/step - loss: 0.6809 - acc: 0.7050 - val_loss: 0.6721 - val_acc: 0.7112\n",
      "Epoch 9/100\n",
      "15924/15924 [==============================] - 12s 762us/step - loss: 0.6794 - acc: 0.7081 - val_loss: 0.6732 - val_acc: 0.7152\n",
      "Epoch 10/100\n",
      "15924/15924 [==============================] - 12s 745us/step - loss: 0.6751 - acc: 0.7087 - val_loss: 0.6755 - val_acc: 0.7135\n",
      "Epoch 11/100\n",
      "15924/15924 [==============================] - 10s 650us/step - loss: 0.6735 - acc: 0.7134 - val_loss: 0.6795 - val_acc: 0.7107\n",
      "Epoch 12/100\n",
      "15924/15924 [==============================] - 9s 574us/step - loss: 0.6752 - acc: 0.7077 - val_loss: 0.6725 - val_acc: 0.7059\n",
      "Epoch 13/100\n",
      "15924/15924 [==============================] - 8s 533us/step - loss: 0.6744 - acc: 0.7083 - val_loss: 0.6716 - val_acc: 0.7150\n",
      "Epoch 14/100\n",
      "15924/15924 [==============================] - 10s 620us/step - loss: 0.6687 - acc: 0.7113 - val_loss: 0.6695 - val_acc: 0.7185\n",
      "Epoch 15/100\n",
      "15924/15924 [==============================] - 10s 613us/step - loss: 0.6661 - acc: 0.7128 - val_loss: 0.6677 - val_acc: 0.7125\n",
      "Epoch 16/100\n",
      "15924/15924 [==============================] - 9s 577us/step - loss: 0.6634 - acc: 0.7161 - val_loss: 0.6788 - val_acc: 0.7044\n",
      "Epoch 17/100\n",
      "15924/15924 [==============================] - 9s 555us/step - loss: 0.6756 - acc: 0.7072 - val_loss: 0.6850 - val_acc: 0.7002\n",
      "Epoch 18/100\n",
      "15924/15924 [==============================] - 9s 580us/step - loss: 0.6654 - acc: 0.7140 - val_loss: 0.6726 - val_acc: 0.7067\n",
      "Epoch 19/100\n",
      "15924/15924 [==============================] - 12s 771us/step - loss: 0.6557 - acc: 0.7188 - val_loss: 0.6719 - val_acc: 0.7044\n",
      "Epoch 20/100\n",
      "15924/15924 [==============================] - 12s 743us/step - loss: 0.6621 - acc: 0.7108 - val_loss: 0.6635 - val_acc: 0.7147\n",
      "Epoch 21/100\n",
      "15924/15924 [==============================] - 11s 677us/step - loss: 0.6562 - acc: 0.7217 - val_loss: 0.6676 - val_acc: 0.7072\n",
      "Epoch 22/100\n",
      "15924/15924 [==============================] - 10s 640us/step - loss: 0.6533 - acc: 0.7175 - val_loss: 0.6635 - val_acc: 0.7157\n",
      "Epoch 23/100\n",
      "15924/15924 [==============================] - 8s 524us/step - loss: 0.6473 - acc: 0.7211 - val_loss: 0.6758 - val_acc: 0.7027\n",
      "Epoch 24/100\n",
      "15924/15924 [==============================] - 10s 616us/step - loss: 0.6576 - acc: 0.7165 - val_loss: 0.6692 - val_acc: 0.7140\n",
      "Epoch 25/100\n",
      "15924/15924 [==============================] - 9s 569us/step - loss: 0.6520 - acc: 0.7175 - val_loss: 0.6585 - val_acc: 0.7160\n",
      "Epoch 26/100\n",
      "15924/15924 [==============================] - 10s 626us/step - loss: 0.6401 - acc: 0.7263 - val_loss: 0.6659 - val_acc: 0.7165\n",
      "Epoch 27/100\n",
      "15924/15924 [==============================] - 10s 638us/step - loss: 0.6402 - acc: 0.7276 - val_loss: 0.6564 - val_acc: 0.7200\n",
      "Epoch 28/100\n",
      "15924/15924 [==============================] - 9s 551us/step - loss: 0.6310 - acc: 0.7352 - val_loss: 0.6592 - val_acc: 0.7162\n",
      "Epoch 29/100\n",
      "15924/15924 [==============================] - 9s 587us/step - loss: 0.6350 - acc: 0.7273 - val_loss: 0.6944 - val_acc: 0.6996\n",
      "Epoch 30/100\n",
      "15924/15924 [==============================] - 9s 577us/step - loss: 0.6457 - acc: 0.7214 - val_loss: 0.6691 - val_acc: 0.7147\n",
      "Epoch 31/100\n",
      "15924/15924 [==============================] - 11s 681us/step - loss: 0.6258 - acc: 0.7351 - val_loss: 0.6659 - val_acc: 0.7155\n",
      "Epoch 32/100\n",
      "15924/15924 [==============================] - 16s 1ms/step - loss: 0.6240 - acc: 0.7349 - val_loss: 0.6702 - val_acc: 0.7115\n",
      "Epoch 33/100\n",
      "15924/15924 [==============================] - 10s 629us/step - loss: 0.6219 - acc: 0.7347 - val_loss: 0.6619 - val_acc: 0.7145\n",
      "Epoch 34/100\n",
      "15924/15924 [==============================] - 9s 559us/step - loss: 0.6195 - acc: 0.7376 - val_loss: 0.6931 - val_acc: 0.6904\n",
      "Epoch 35/100\n",
      "15924/15924 [==============================] - 9s 576us/step - loss: 0.6314 - acc: 0.7271 - val_loss: 0.6732 - val_acc: 0.7150\n",
      "Epoch 36/100\n",
      "15924/15924 [==============================] - 9s 593us/step - loss: 0.6160 - acc: 0.7425 - val_loss: 0.6937 - val_acc: 0.6984\n",
      "Epoch 37/100\n",
      "15924/15924 [==============================] - 9s 547us/step - loss: 0.6262 - acc: 0.7335 - val_loss: 0.6603 - val_acc: 0.7175\n",
      "Epoch 38/100\n",
      "15924/15924 [==============================] - 10s 600us/step - loss: 0.6165 - acc: 0.7383 - val_loss: 0.6557 - val_acc: 0.7192\n",
      "Epoch 39/100\n",
      "15924/15924 [==============================] - 9s 571us/step - loss: 0.6041 - acc: 0.7484 - val_loss: 0.6639 - val_acc: 0.7135\n",
      "Epoch 40/100\n",
      "15924/15924 [==============================] - 9s 577us/step - loss: 0.6063 - acc: 0.7405 - val_loss: 0.6879 - val_acc: 0.7054\n",
      "Epoch 41/100\n",
      "15924/15924 [==============================] - 9s 549us/step - loss: 0.6059 - acc: 0.7442 - val_loss: 0.6542 - val_acc: 0.7192\n",
      "Epoch 42/100\n",
      "15924/15924 [==============================] - 9s 573us/step - loss: 0.6011 - acc: 0.7466 - val_loss: 0.6718 - val_acc: 0.7192\n",
      "Epoch 43/100\n",
      "15924/15924 [==============================] - 9s 548us/step - loss: 0.5977 - acc: 0.7487 - val_loss: 0.6872 - val_acc: 0.7064\n",
      "Epoch 44/100\n",
      "15924/15924 [==============================] - 9s 554us/step - loss: 0.5900 - acc: 0.7540 - val_loss: 0.6752 - val_acc: 0.7079\n",
      "Epoch 45/100\n",
      "15924/15924 [==============================] - 9s 591us/step - loss: 0.6040 - acc: 0.7439 - val_loss: 0.6519 - val_acc: 0.7210\n",
      "Epoch 46/100\n",
      "15924/15924 [==============================] - 9s 544us/step - loss: 0.5939 - acc: 0.7479 - val_loss: 0.6576 - val_acc: 0.7167\n",
      "Epoch 47/100\n",
      "15924/15924 [==============================] - 9s 562us/step - loss: 0.5803 - acc: 0.7581 - val_loss: 0.6754 - val_acc: 0.7014\n",
      "Epoch 48/100\n",
      "15924/15924 [==============================] - 9s 545us/step - loss: 0.5848 - acc: 0.7545 - val_loss: 0.6982 - val_acc: 0.7024\n",
      "Epoch 49/100\n",
      "15924/15924 [==============================] - 10s 648us/step - loss: 0.6076 - acc: 0.7392 - val_loss: 0.6870 - val_acc: 0.7022\n",
      "Epoch 50/100\n",
      "15924/15924 [==============================] - 7s 450us/step - loss: 0.5765 - acc: 0.7604 - val_loss: 0.7425 - val_acc: 0.6823\n",
      "Epoch 51/100\n",
      "15924/15924 [==============================] - 12s 727us/step - loss: 0.6058 - acc: 0.7398 - val_loss: 0.6595 - val_acc: 0.7202\n",
      "Epoch 52/100\n",
      "15924/15924 [==============================] - 8s 509us/step - loss: 0.5747 - acc: 0.7593 - val_loss: 0.6651 - val_acc: 0.7185\n",
      "Epoch 53/100\n",
      "15924/15924 [==============================] - 8s 519us/step - loss: 0.5623 - acc: 0.7673 - val_loss: 0.6703 - val_acc: 0.7102\n",
      "Epoch 54/100\n",
      "15924/15924 [==============================] - 12s 754us/step - loss: 0.5742 - acc: 0.7591 - val_loss: 0.6535 - val_acc: 0.7240\n",
      "Epoch 55/100\n",
      "15924/15924 [==============================] - 9s 551us/step - loss: 0.5607 - acc: 0.7666 - val_loss: 0.6819 - val_acc: 0.6981\n",
      "Epoch 56/100\n",
      "15924/15924 [==============================] - 10s 638us/step - loss: 0.5561 - acc: 0.7721 - val_loss: 0.6536 - val_acc: 0.7177\n",
      "Epoch 57/100\n",
      "15924/15924 [==============================] - 8s 510us/step - loss: 0.5491 - acc: 0.7710 - val_loss: 0.6934 - val_acc: 0.7047\n",
      "Epoch 58/100\n",
      "15924/15924 [==============================] - 8s 520us/step - loss: 0.5661 - acc: 0.7619 - val_loss: 0.6618 - val_acc: 0.7195\n",
      "Epoch 59/100\n"
     ]
    },
    {
     "name": "stdout",
     "output_type": "stream",
     "text": [
      "15924/15924 [==============================] - 7s 449us/step - loss: 0.5527 - acc: 0.7702 - val_loss: 0.6672 - val_acc: 0.7175\n",
      "Epoch 60/100\n",
      "15924/15924 [==============================] - 10s 598us/step - loss: 0.5730 - acc: 0.7521 - val_loss: 0.6681 - val_acc: 0.7145\n",
      "Epoch 61/100\n",
      "15924/15924 [==============================] - 9s 572us/step - loss: 0.5470 - acc: 0.7757 - val_loss: 0.6966 - val_acc: 0.7057\n",
      "Epoch 62/100\n",
      "15924/15924 [==============================] - 9s 567us/step - loss: 0.5452 - acc: 0.7756 - val_loss: 0.7644 - val_acc: 0.6725\n",
      "Epoch 63/100\n",
      "15924/15924 [==============================] - 10s 631us/step - loss: 0.5626 - acc: 0.7644 - val_loss: 0.6760 - val_acc: 0.7125\n",
      "Epoch 64/100\n",
      "15924/15924 [==============================] - 10s 652us/step - loss: 0.5399 - acc: 0.7797 - val_loss: 0.6722 - val_acc: 0.7115\n",
      "Epoch 65/100\n",
      "15924/15924 [==============================] - 11s 713us/step - loss: 0.5358 - acc: 0.7776 - val_loss: 0.7047 - val_acc: 0.6989\n",
      "Epoch 66/100\n",
      "15924/15924 [==============================] - 9s 555us/step - loss: 0.5439 - acc: 0.7701 - val_loss: 0.6757 - val_acc: 0.7175\n",
      "Epoch 67/100\n",
      "15924/15924 [==============================] - 10s 598us/step - loss: 0.5215 - acc: 0.7867 - val_loss: 0.6966 - val_acc: 0.7074\n",
      "Epoch 68/100\n",
      "15924/15924 [==============================] - 9s 550us/step - loss: 0.5264 - acc: 0.7823 - val_loss: 0.6850 - val_acc: 0.7067\n",
      "Epoch 69/100\n",
      "15924/15924 [==============================] - 10s 615us/step - loss: 0.5218 - acc: 0.7845 - val_loss: 0.6742 - val_acc: 0.7182\n",
      "Epoch 70/100\n",
      "15924/15924 [==============================] - 10s 611us/step - loss: 0.5183 - acc: 0.7854 - val_loss: 0.6855 - val_acc: 0.7049\n",
      "Epoch 71/100\n",
      "15924/15924 [==============================] - 13s 806us/step - loss: 0.5177 - acc: 0.7881 - val_loss: 0.6742 - val_acc: 0.7142\n",
      "Epoch 72/100\n",
      "15924/15924 [==============================] - 9s 559us/step - loss: 0.5084 - acc: 0.7925 - val_loss: 0.6664 - val_acc: 0.7167\n",
      "Epoch 73/100\n",
      "15924/15924 [==============================] - 8s 494us/step - loss: 0.4924 - acc: 0.8034 - val_loss: 0.7105 - val_acc: 0.6966\n",
      "Epoch 74/100\n",
      "15924/15924 [==============================] - 8s 483us/step - loss: 0.5147 - acc: 0.7876 - val_loss: 0.7224 - val_acc: 0.6994\n",
      "Epoch 75/100\n",
      "15924/15924 [==============================] - 9s 587us/step - loss: 0.5047 - acc: 0.7935 - val_loss: 0.6859 - val_acc: 0.7037\n",
      "Epoch 76/100\n",
      "15924/15924 [==============================] - 9s 555us/step - loss: 0.5001 - acc: 0.7963 - val_loss: 0.6771 - val_acc: 0.7130\n",
      "Epoch 77/100\n",
      "15924/15924 [==============================] - 9s 535us/step - loss: 0.4901 - acc: 0.8009 - val_loss: 0.7406 - val_acc: 0.6894\n",
      "Epoch 78/100\n",
      "15924/15924 [==============================] - 9s 553us/step - loss: 0.4961 - acc: 0.7983 - val_loss: 0.6828 - val_acc: 0.7084\n",
      "Epoch 79/100\n",
      "15924/15924 [==============================] - 10s 636us/step - loss: 0.4798 - acc: 0.8073 - val_loss: 0.7151 - val_acc: 0.6936\n",
      "Epoch 80/100\n",
      "15924/15924 [==============================] - 10s 626us/step - loss: 0.4890 - acc: 0.8026 - val_loss: 0.6826 - val_acc: 0.7099\n",
      "Epoch 81/100\n",
      "15924/15924 [==============================] - 12s 770us/step - loss: 0.4776 - acc: 0.8097 - val_loss: 0.6754 - val_acc: 0.7120\n",
      "Epoch 82/100\n",
      "15924/15924 [==============================] - 12s 736us/step - loss: 0.4713 - acc: 0.8135 - val_loss: 0.7032 - val_acc: 0.7062\n",
      "Epoch 83/100\n",
      "15924/15924 [==============================] - 12s 753us/step - loss: 0.4863 - acc: 0.8019 - val_loss: 0.6803 - val_acc: 0.7137\n",
      "Epoch 84/100\n",
      "15924/15924 [==============================] - 13s 820us/step - loss: 0.4687 - acc: 0.8120 - val_loss: 0.7045 - val_acc: 0.7027\n",
      "Epoch 85/100\n",
      "15924/15924 [==============================] - 9s 575us/step - loss: 0.4839 - acc: 0.8012 - val_loss: 0.6922 - val_acc: 0.7107\n",
      "Epoch 86/100\n",
      "15924/15924 [==============================] - 10s 659us/step - loss: 0.4692 - acc: 0.8125 - val_loss: 0.6692 - val_acc: 0.7175\n",
      "Epoch 87/100\n",
      "15924/15924 [==============================] - 12s 772us/step - loss: 0.4733 - acc: 0.8079 - val_loss: 0.6842 - val_acc: 0.7185\n",
      "Epoch 88/100\n",
      "15924/15924 [==============================] - 11s 706us/step - loss: 0.4780 - acc: 0.8048 - val_loss: 0.7075 - val_acc: 0.7092\n",
      "Epoch 89/100\n",
      "15924/15924 [==============================] - 8s 512us/step - loss: 0.4674 - acc: 0.8106 - val_loss: 0.6689 - val_acc: 0.7223\n",
      "Epoch 90/100\n",
      "15924/15924 [==============================] - 8s 516us/step - loss: 0.4523 - acc: 0.8210 - val_loss: 0.6685 - val_acc: 0.7225\n",
      "Epoch 91/100\n",
      "15924/15924 [==============================] - 12s 746us/step - loss: 0.4491 - acc: 0.8232 - val_loss: 0.6898 - val_acc: 0.7132\n",
      "Epoch 92/100\n",
      "15924/15924 [==============================] - 13s 812us/step - loss: 0.4522 - acc: 0.8205 - val_loss: 0.6958 - val_acc: 0.7112\n",
      "Epoch 93/100\n",
      "15924/15924 [==============================] - 10s 645us/step - loss: 0.4615 - acc: 0.8141 - val_loss: 0.6799 - val_acc: 0.7202\n",
      "Epoch 94/100\n",
      "15924/15924 [==============================] - 12s 764us/step - loss: 0.4530 - acc: 0.8195 - val_loss: 0.6796 - val_acc: 0.7190\n",
      "Epoch 95/100\n",
      "15924/15924 [==============================] - 8s 494us/step - loss: 0.4456 - acc: 0.8229 - val_loss: 0.6740 - val_acc: 0.7243\n",
      "Epoch 96/100\n",
      "15924/15924 [==============================] - 7s 451us/step - loss: 0.4403 - acc: 0.8255 - val_loss: 0.6754 - val_acc: 0.7243\n",
      "Epoch 97/100\n",
      "15924/15924 [==============================] - 7s 467us/step - loss: 0.4435 - acc: 0.8259 - val_loss: 0.7068 - val_acc: 0.7062\n",
      "Epoch 98/100\n",
      "15924/15924 [==============================] - 10s 618us/step - loss: 0.4516 - acc: 0.8232 - val_loss: 0.6784 - val_acc: 0.7187\n",
      "Epoch 99/100\n",
      "15924/15924 [==============================] - 10s 627us/step - loss: 0.4355 - acc: 0.8279 - val_loss: 0.6763 - val_acc: 0.7243\n",
      "Epoch 100/100\n",
      "15924/15924 [==============================] - 10s 614us/step - loss: 0.4301 - acc: 0.8325 - val_loss: 0.6774 - val_acc: 0.7215\n",
      "Model built sucessfully.\n"
     ]
    }
   ],
   "source": [
    "model.fit(train_x, train_y, batch_size=batch_size, epochs=epochs, \n",
    "          validation_split=0.2, callbacks=[cb_triangular, cb_save], verbose=1)\n",
    "print('Model built sucessfully.')"
   ]
  },
  {
   "cell_type": "code",
   "execution_count": 32,
   "metadata": {},
   "outputs": [
    {
     "data": {
      "text/plain": [
       "[<matplotlib.lines.Line2D at 0x1b7c78760b8>]"
      ]
     },
     "execution_count": 32,
     "metadata": {},
     "output_type": "execute_result"
    },
    {
     "data": {
      "image/png": "[encoded data removed]",
      "text/plain": [
       "<matplotlib.figure.Figure at 0x1b7c78760f0>"
      ]
     },
     "metadata": {},
     "output_type": "display_data"
    }
   ],
   "source": [
    "plt.xlabel('Training Iterations')\n",
    "plt.ylabel('Learning Rate')\n",
    "plt.title(\"CLR - 'triangular2' Policy\")\n",
    "plt.plot(cb_triangular.history['iterations'], cb_triangular.history['lr'])\n",
    "\n",
    "# With more number of iterations the graph will correspond to that of a traingular wave"
   ]
  }
 ],
 "metadata": {
  "kernelspec": {
   "display_name": "deepl-env",
   "language": "python",
   "name": "python3"
  },
  "language_info": {
   "codemirror_mode": {
    "name": "ipython",
    "version": 3
   },
   "file_extension": ".py",
   "mimetype": "text/x-python",
   "name": "python",
   "nbconvert_exporter": "python",
   "pygments_lexer": "ipython3",
   "version": "3.11.13"
  }
 },
 "nbformat": 4,
 "nbformat_minor": 2
}
