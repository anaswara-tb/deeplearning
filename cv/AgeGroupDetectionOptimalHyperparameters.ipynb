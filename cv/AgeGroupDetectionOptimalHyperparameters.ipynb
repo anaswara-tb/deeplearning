{
 "cells": [
  {
   "cell_type": "markdown",
   "metadata": {},
   "source": [
    "### Age Detection of Indian Actors"
   ]
  },
  {
   "cell_type": "code",
   "execution_count": 2,
   "metadata": {},
   "outputs": [],
   "source": [
    "# Importing necessary libraries\n",
    "import os\n",
    "import numpy as np\n",
    "import pandas as pd\n",
    "import matplotlib.pyplot as plt\n",
    "%matplotlib inline\n",
    "from sklearn.preprocessing import LabelEncoder\n",
    "from tensorflow.python.keras import utils\n",
    "from keras.models import Sequential\n",
    "from keras.layers import Dense, Flatten, InputLayer, Dropout\n",
    "import keras\n",
    "import imageio # To read images\n",
    "from PIL import Image # For image resizing \n",
    "from clr_callback import * # For cyclic learning rate\n",
    "from tensorflow.keras.constraints import MaxNorm"
   ]
  },
  {
   "cell_type": "code",
   "execution_count": 3,
   "metadata": {
    "collapsed": true
   },
   "outputs": [],
   "source": [
    "# Reading the data\n",
    "train = pd.read_csv('agedetectiontrain/train.csv')\n",
    "test = pd.read_csv('agedetectiontest/test.csv')"
   ]
  },
  {
   "cell_type": "code",
   "execution_count": 5,
   "metadata": {
    "collapsed": true
   },
   "outputs": [
    {
     "name": "stderr",
     "output_type": "stream",
     "text": [
      "C:\\Users\\anaswara\\AppData\\Local\\Temp\\ipykernel_2428\\22312541.py:4: DeprecationWarning: Starting with ImageIO v3 the behavior of this function will switch to that of iio.v3.imread. To keep the current behavior (and make this warning disappear) use `import imageio.v2 as imageio` or call `imageio.v2.imread` directly.\n",
      "  img = imageio.imread(img_path)\n"
     ]
    }
   ],
   "source": [
    "temp = []\n",
    "for img_name in train.ID:\n",
    "    img_path = os.path.join('agedetectiontrain/Train', img_name)\n",
    "    img = imageio.imread(img_path)\n",
    "    img = np.array(Image.fromarray(img).resize((32, 32))).astype('float32')    \n",
    "    temp.append(img)\n",
    "\n",
    "train_x = np.stack(temp)"
   ]
  },
  {
   "cell_type": "code",
   "execution_count": 6,
   "metadata": {
    "collapsed": true
   },
   "outputs": [
    {
     "name": "stderr",
     "output_type": "stream",
     "text": [
      "C:\\Users\\anaswara\\AppData\\Local\\Temp\\ipykernel_2428\\3830458602.py:5: DeprecationWarning: Starting with ImageIO v3 the behavior of this function will switch to that of iio.v3.imread. To keep the current behavior (and make this warning disappear) use `import imageio.v2 as imageio` or call `imageio.v2.imread` directly.\n",
      "  img = imageio.imread(img_path)\n"
     ]
    }
   ],
   "source": [
    "# Image resizing of test data into single numpy array\n",
    "temp = []\n",
    "for img_name in test.ID:\n",
    "    img_path = os.path.join('agedetectiontest/Test', img_name)\n",
    "    img = imageio.imread(img_path)\n",
    "    img = np.array(Image.fromarray(img).resize((32, 32))).astype('float32')    \n",
    "    temp.append(img)\n",
    "\n",
    "test_x = np.stack(temp)"
   ]
  },
  {
   "cell_type": "code",
   "execution_count": 7,
   "metadata": {
    "collapsed": true
   },
   "outputs": [],
   "source": [
    "# Normalizing the images\n",
    "train_x = train_x / 255.\n",
    "test_x = test_x / 255."
   ]
  },
  {
   "cell_type": "code",
   "execution_count": 9,
   "metadata": {
    "collapsed": true
   },
   "outputs": [],
   "source": [
    "# Encoding the categorical variable to numeric\n",
    "lb = LabelEncoder()\n",
    "train_y = lb.fit_transform(train.Class)\n",
    "train_y = keras.utils.to_categorical(train_y)"
   ]
  },
  {
   "cell_type": "markdown",
   "metadata": {},
   "source": [
    "### Building a Deep Neural Network for Age Group Detection"
   ]
  },
  {
   "cell_type": "code",
   "execution_count": 10,
   "metadata": {
    "collapsed": true
   },
   "outputs": [],
   "source": [
    "# Specifying all the parameters we will be using in our network\n",
    "input_num_units = (32, 32, 3)\n",
    "hidden_num_units = 500\n",
    "output_num_units = 3\n",
    "\n",
    "# Optimum values\n",
    "optimizer = keras.optimizers.Adam()\n",
    "activation = 'relu'\n",
    "cb_triangular_lr = CyclicLR(base_lr=0.0001, max_lr=0.001, step_size=2000., mode='triangular2') \n",
    "weights = keras.initializers.he_normal()\n",
    "bias = keras.initializers.Constant(value=0.01)\n",
    "dropout = 0.30\n",
    "regularizer = keras.regularizers.l2()\n",
    "epochs = 21\n",
    "batch_size = 128"
   ]
  },
  {
   "cell_type": "code",
   "execution_count": 11,
   "metadata": {
    "collapsed": true
   },
   "outputs": [
    {
     "name": "stderr",
     "output_type": "stream",
     "text": [
      "c:\\Users\\anaswara\\anaconda3\\envs\\deepl-env\\Lib\\site-packages\\keras\\src\\layers\\core\\input_layer.py:27: UserWarning: Argument `input_shape` is deprecated. Use `shape` instead.\n",
      "  warnings.warn(\n"
     ]
    },
    {
     "ename": "AttributeError",
     "evalue": "module 'keras.constraints' has no attribute 'maxnorm'",
     "output_type": "error",
     "traceback": [
      "\u001b[31m---------------------------------------------------------------------------\u001b[39m",
      "\u001b[31mAttributeError\u001b[39m                            Traceback (most recent call last)",
      "\u001b[36mCell\u001b[39m\u001b[36m \u001b[39m\u001b[32mIn[11]\u001b[39m\u001b[32m, line 7\u001b[39m\n\u001b[32m      1\u001b[39m \u001b[38;5;66;03m# Defining the network\u001b[39;00m\n\u001b[32m      2\u001b[39m model = Sequential([\n\u001b[32m      3\u001b[39m   InputLayer(input_shape=input_num_units),\n\u001b[32m      4\u001b[39m   Flatten(),\n\u001b[32m      5\u001b[39m   Dense(units=hidden_num_units, kernel_initializer=weights, \n\u001b[32m      6\u001b[39m         bias_initializer=bias, activation=activation, \n\u001b[32m----> \u001b[39m\u001b[32m7\u001b[39m        kernel_constraint=\u001b[43mkeras\u001b[49m\u001b[43m.\u001b[49m\u001b[43mconstraints\u001b[49m\u001b[43m.\u001b[49m\u001b[43mmaxnorm\u001b[49m(\u001b[32m3\u001b[39m),\n\u001b[32m      8\u001b[39m        kernel_regularizer=regularizer),\n\u001b[32m      9\u001b[39m   Dropout(dropout),\n\u001b[32m     10\u001b[39m   Dense(units=output_num_units, kernel_initializer=weights, activation=\u001b[33m'\u001b[39m\u001b[33msoftmax\u001b[39m\u001b[33m'\u001b[39m),\n\u001b[32m     11\u001b[39m ])\n",
      "\u001b[31mAttributeError\u001b[39m: module 'keras.constraints' has no attribute 'maxnorm'"
     ]
    }
   ],
   "source": [
    "# Defining the network\n",
    "model = Sequential([\n",
    "  InputLayer(input_shape=input_num_units),\n",
    "  Flatten(),\n",
    "  Dense(units=hidden_num_units, kernel_initializer=weights, \n",
    "        bias_initializer=bias, activation=activation, \n",
    "       kernel_constraint=keras.constraints.maxnorm(3),\n",
    "       kernel_regularizer=regularizer),\n",
    "  Dropout(dropout),\n",
    "  Dense(units=output_num_units, kernel_initializer=weights, activation='softmax'),\n",
    "])"
   ]
  },
  {
   "cell_type": "code",
   "execution_count": 9,
   "metadata": {},
   "outputs": [
    {
     "name": "stdout",
     "output_type": "stream",
     "text": [
      "_________________________________________________________________\n",
      "Layer (type)                 Output Shape              Param #   \n",
      "=================================================================\n",
      "flatten_1 (Flatten)          (None, 3072)              0         \n",
      "_________________________________________________________________\n",
      "dense_1 (Dense)              (None, 500)               1536500   \n",
      "_________________________________________________________________\n",
      "dropout_1 (Dropout)          (None, 500)               0         \n",
      "_________________________________________________________________\n",
      "dense_2 (Dense)              (None, 3)                 1503      \n",
      "=================================================================\n",
      "Total params: 1,538,003\n",
      "Trainable params: 1,538,003\n",
      "Non-trainable params: 0\n",
      "_________________________________________________________________\n"
     ]
    }
   ],
   "source": [
    "# Printing model summary\n",
    "model.summary()"
   ]
  },
  {
   "cell_type": "code",
   "execution_count": 10,
   "metadata": {
    "scrolled": true
   },
   "outputs": [
    {
     "name": "stdout",
     "output_type": "stream",
     "text": [
      "Train on 15924 samples, validate on 3982 samples\n",
      "Epoch 1/21\n",
      "15924/15924 [==============================] - 21s 1ms/step - loss: 8.9983 - acc: 0.5651 - val_loss: 6.9456 - val_acc: 0.6160\n",
      "Epoch 2/21\n",
      "15924/15924 [==============================] - 19s 1ms/step - loss: 5.3936 - acc: 0.6039 - val_loss: 3.9865 - val_acc: 0.6321\n",
      "Epoch 3/21\n",
      "15924/15924 [==============================] - 18s 1ms/step - loss: 3.1117 - acc: 0.6093 - val_loss: 2.3439 - val_acc: 0.6311\n",
      "Epoch 4/21\n",
      "15924/15924 [==============================] - 19s 1ms/step - loss: 1.9257 - acc: 0.6121 - val_loss: 1.5302 - val_acc: 0.6286\n",
      "Epoch 5/21\n",
      "15924/15924 [==============================] - 20s 1ms/step - loss: 1.3726 - acc: 0.5992 - val_loss: 1.1645 - val_acc: 0.6318\n",
      "Epoch 6/21\n",
      "15924/15924 [==============================] - 19s 1ms/step - loss: 1.0912 - acc: 0.6116 - val_loss: 0.9994 - val_acc: 0.6308\n",
      "Epoch 7/21\n",
      "15924/15924 [==============================] - 20s 1ms/step - loss: 0.9678 - acc: 0.6150 - val_loss: 0.9713 - val_acc: 0.5804\n",
      "Epoch 8/21\n",
      "15924/15924 [==============================] - 20s 1ms/step - loss: 0.9341 - acc: 0.6005 - val_loss: 0.9395 - val_acc: 0.5603\n",
      "Epoch 9/21\n",
      "15924/15924 [==============================] - 19s 1ms/step - loss: 0.9025 - acc: 0.6112 - val_loss: 0.8978 - val_acc: 0.6258\n",
      "Epoch 10/21\n",
      "15924/15924 [==============================] - 19s 1ms/step - loss: 0.8904 - acc: 0.6128 - val_loss: 0.8473 - val_acc: 0.6321\n",
      "Epoch 11/21\n",
      "15924/15924 [==============================] - 19s 1ms/step - loss: 0.8890 - acc: 0.6068 - val_loss: 0.8808 - val_acc: 0.6080\n",
      "Epoch 12/21\n",
      "15924/15924 [==============================] - 19s 1ms/step - loss: 0.8941 - acc: 0.6078 - val_loss: 0.8554 - val_acc: 0.6313\n",
      "Epoch 13/21\n",
      "15924/15924 [==============================] - 20s 1ms/step - loss: 0.9042 - acc: 0.6052 - val_loss: 0.8563 - val_acc: 0.6349\n",
      "Epoch 14/21\n",
      "15924/15924 [==============================] - 24s 1ms/step - loss: 0.9004 - acc: 0.6064 - val_loss: 0.8779 - val_acc: 0.6047\n",
      "Epoch 15/21\n",
      "15924/15924 [==============================] - 19s 1ms/step - loss: 0.9110 - acc: 0.5961 - val_loss: 0.8716 - val_acc: 0.6168\n",
      "Epoch 16/21\n",
      "15924/15924 [==============================] - 20s 1ms/step - loss: 0.9140 - acc: 0.5881 - val_loss: 0.8639 - val_acc: 0.6118\n",
      "Epoch 17/21\n",
      "15924/15924 [==============================] - 22s 1ms/step - loss: 0.9056 - acc: 0.5985 - val_loss: 0.8711 - val_acc: 0.6017\n",
      "Epoch 18/21\n",
      "15924/15924 [==============================] - 23s 1ms/step - loss: 0.8950 - acc: 0.6015 - val_loss: 0.8450 - val_acc: 0.6288\n",
      "Epoch 19/21\n",
      "15924/15924 [==============================] - 23s 1ms/step - loss: 0.8860 - acc: 0.6000 - val_loss: 0.8669 - val_acc: 0.5964\n",
      "Epoch 20/21\n",
      "15924/15924 [==============================] - 22s 1ms/step - loss: 0.8859 - acc: 0.5992 - val_loss: 0.8549 - val_acc: 0.6246\n",
      "Epoch 21/21\n",
      "15924/15924 [==============================] - 24s 2ms/step - loss: 0.8828 - acc: 0.6033 - val_loss: 0.8526 - val_acc: 0.6130\n"
     ]
    },
    {
     "data": {
      "text/plain": [
       "<keras.callbacks.History at 0x2192c654588>"
      ]
     },
     "execution_count": 10,
     "metadata": {},
     "output_type": "execute_result"
    }
   ],
   "source": [
    "# Compiling and Training Network\n",
    "model.compile(optimizer=optimizer, loss='categorical_crossentropy', metrics=['accuracy'])\n",
    "cb_save = keras.callbacks.TensorBoard(log_dir='optimum_model', write_graph=False) \n",
    "model.fit(train_x, train_y, batch_size=batch_size, epochs=epochs, verbose=1, \n",
    "         validation_split=0.2, callbacks = [cb_triangular_lr, cb_save])"
   ]
  },
  {
   "cell_type": "markdown",
   "metadata": {},
   "source": [
    "### Saving the model in H5 format"
   ]
  },
  {
   "cell_type": "code",
   "execution_count": 11,
   "metadata": {
    "collapsed": true
   },
   "outputs": [],
   "source": [
    "model.save('optimum_model.h5')"
   ]
  },
  {
   "cell_type": "code",
   "execution_count": 13,
   "metadata": {},
   "outputs": [],
   "source": [
    "# Predicting and importing the result in a csv file\n",
    "pred = model.predict_classes(test_x)\n",
    "pred = lb.inverse_transform(pred)\n",
    "\n",
    "test['Class'] = pred\n",
    "test.to_csv('out.csv', index=False)"
   ]
  },
  {
   "cell_type": "code",
   "execution_count": 20,
   "metadata": {},
   "outputs": [
    {
     "name": "stdout",
     "output_type": "stream",
     "text": [
      "Original: MIDDLE Predicted: MIDDLE\n"
     ]
    },
    {
     "data": {
      "image/png": "[encoded data removed]",
      "text/plain": [
       "<matplotlib.figure.Figure at 0x2193fcc40f0>"
      ]
     },
     "metadata": {},
     "output_type": "display_data"
    }
   ],
   "source": [
    "# Visual Inspection of predictions\n",
    "idx = 2481\n",
    "img_name = test.ID[idx]\n",
    "\n",
    "img = imageio.imread(os.path.join('age_detection_test/Test', img_name))\n",
    "plt.imshow(np.array(Image.fromarray(img).resize((128, 128))))\n",
    "pred = model.predict_classes(test_x)\n",
    "print('Original:', train.Class[idx], 'Predicted:', lb.inverse_transform(pred)[idx])"
   ]
  }
 ],
 "metadata": {
  "kernelspec": {
   "display_name": "deepl-env",
   "language": "python",
   "name": "python3"
  },
  "language_info": {
   "codemirror_mode": {
    "name": "ipython",
    "version": 3
   },
   "file_extension": ".py",
   "mimetype": "text/x-python",
   "name": "python",
   "nbconvert_exporter": "python",
   "pygments_lexer": "ipython3",
   "version": "3.11.13"
  }
 },
 "nbformat": 4,
 "nbformat_minor": 2
}
